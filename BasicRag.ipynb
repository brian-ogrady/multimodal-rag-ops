{
  "cells": [
    {
      "cell_type": "markdown",
      "metadata": {
        "id": "qS7x88zLk7WA"
      },
      "source": [
        "## Setup Environment"
      ]
    },
    {
      "cell_type": "code",
      "execution_count": 10,
      "metadata": {
        "colab": {
          "base_uri": "https://localhost:8080/"
        },
        "collapsed": true,
        "id": "9NyM1PTfh3hm",
        "outputId": "992ed1f1-9ab6-4466-89a8-d47c295f3dfb"
      },
      "outputs": [
        {
          "name": "stdout",
          "output_type": "stream",
          "text": [
            "\n",
            "\u001b[1m[\u001b[0m\u001b[34;49mnotice\u001b[0m\u001b[1;39;49m]\u001b[0m\u001b[39;49m A new release of pip is available: \u001b[0m\u001b[31;49m24.2\u001b[0m\u001b[39;49m -> \u001b[0m\u001b[32;49m24.3.1\u001b[0m\n",
            "\u001b[1m[\u001b[0m\u001b[34;49mnotice\u001b[0m\u001b[1;39;49m]\u001b[0m\u001b[39;49m To update, run: \u001b[0m\u001b[32;49mpip install --upgrade pip\u001b[0m\n",
            "Note: you may need to restart the kernel to use updated packages.\n"
          ]
        }
      ],
      "source": [
        "%pip install -qU nltk langchain_astradb pypdf langchain-text-splitters keybert gliner unstructured langchain-openai python-dotenv \"unstructured[pdf]\""
      ]
    },
    {
      "cell_type": "code",
      "execution_count": 11,
      "metadata": {},
      "outputs": [
        {
          "name": "stderr",
          "output_type": "stream",
          "text": [
            "[nltk_data] Downloading package punkt to\n",
            "[nltk_data]     /Users/brian.ogrady/nltk_data...\n",
            "[nltk_data]   Package punkt is already up-to-date!\n",
            "[nltk_data] Downloading package punkt_tab to\n",
            "[nltk_data]     /Users/brian.ogrady/nltk_data...\n",
            "[nltk_data]   Package punkt_tab is already up-to-date!\n"
          ]
        },
        {
          "name": "stdout",
          "output_type": "stream",
          "text": [
            "Downloaded: data/goog-10-k-q4-2022.pdf\n",
            "Downloaded: data/goog-10-k-2023.pdf\n",
            "Downloaded: data/b4266e40-1de6-4a34-9dfb-8632b8bd57e0.pdf\n",
            "Downloaded: data/faab4555-c69b-438a-aaf7-e09305f87ca3.pdf\n"
          ]
        }
      ],
      "source": [
        "import os\n",
        "import requests\n",
        "import nltk\n",
        "from langchain_openai import OpenAIEmbeddings\n",
        "from langchain_astradb import AstraDBVectorStore\n",
        "from dotenv import load_dotenv\n",
        "from langchain_core.documents.base import Document\n",
        "from unstructured.partition.auto import partition\n",
        "from collections import namedtuple\n",
        "\n",
        "\n",
        "nltk.download('punkt')\n",
        "nltk.download('punkt_tab')\n",
        "\n",
        "\n",
        "load_dotenv()\n",
        "\n",
        "\n",
        "OPENAI_API_KEY = os.environ.get('OPENAI_API_KEY')\n",
        "ASTRADB_TOKEN = os.environ.get('ASTRA_DB_APPLICATION_TOKEN')\n",
        "ASTRADB_ENDPOINT = os.environ.get('ASTRA_DB_API_ENDPOINT')\n",
        "\n",
        "\n",
        "VSTORE = AstraDBVectorStore(\n",
        "    collection_name='test_team_metadata',\n",
        "    embedding=OpenAIEmbeddings(model='text-embedding-3-small'),\n",
        "    metric='cosine',\n",
        ")\n",
        "\n",
        "\n",
        "SAVE_DIR = 'data/'\n",
        "PdfUrl = namedtuple('PdfUrl', ['url', 'team'])\n",
        "PDF_URLS = [\n",
        "    PdfUrl(\"https://abc.xyz/assets/9a/bd/838c917c4b4ab21f94e84c3c2c65/goog-10-k-q4-2022.pdf\", \"google\"),\n",
        "    PdfUrl(\"https://abc.xyz/assets/43/44/675b83d7455885c4615d848d52a4/goog-10-k-2023.pdf\", \"google\"),\n",
        "    PdfUrl(\"https://d18rn0p25nwr6d.cloudfront.net/CIK-0000320193/b4266e40-1de6-4a34-9dfb-8632b8bd57e0.pdf\", \"apple\"),\n",
        "    PdfUrl(\"https://d18rn0p25nwr6d.cloudfront.net/CIK-0000320193/faab4555-c69b-438a-aaf7-e09305f87ca3.pdf\", \"apple\")\n",
        "]\n",
        "\n",
        "\n",
        "def download_file(url: str, save_path: str):\n",
        "    \"\"\"\n",
        "    Downloads file from a given url\n",
        "    \"\"\"\n",
        "    response = requests.get(url)\n",
        "    if response.status_code == 200:\n",
        "        with open(save_path, 'wb') as file:\n",
        "            file.write(response.content)\n",
        "        print(f\"Downloaded: {save_path}\")\n",
        "    else:\n",
        "        print(f\"Failed to download: {url}\")\n",
        "\n",
        "\n",
        "os.makedirs(SAVE_DIR, exist_ok=True)\n",
        "\n",
        "\n",
        "pdf_files = dict()\n",
        "for pdf_url in PDF_URLS:\n",
        "    file_name = pdf_url.url.split(\"/\")[-1]\n",
        "    save_path = os.path.join(SAVE_DIR, file_name)\n",
        "    pdf_files[save_path] = pdf_url\n",
        "    download_file(pdf_url.url, save_path)\n",
        "\n",
        "\n",
        "team_elements = dict()\n",
        "for pdf_file_path, pdfurl in pdf_files.items():\n",
        "    elements = partition(filename=pdf_file_path)\n",
        "    team_elements[pdfurl.team] = elements\n",
        "\n",
        "\n",
        "pages = []\n",
        "for team, elements in team_elements.items():\n",
        "  for element in elements:\n",
        "      metadata = element.metadata.to_dict()\n",
        "      metadata[\"team\"] = team\n",
        "      metadata[\"element_id\"] = element.id\n",
        "      metadata[\"category\"] = element.to_dict()[\"type\"]\n",
        "      document = Document(\n",
        "          id=element.id,\n",
        "          mimetype=metadata[\"filetype\"],\n",
        "          metadata=metadata,\n",
        "          page_content=element.text,\n",
        "          )\n",
        "      pages.append(document)"
      ]
    },
    {
      "cell_type": "code",
      "execution_count": 12,
      "metadata": {},
      "outputs": [],
      "source": [
        "inserted_ids = VSTORE.add_documents(pages)\n"
      ]
    },
    {
      "cell_type": "markdown",
      "metadata": {
        "id": "Oi8Vf9wWlDp4"
      },
      "source": [
        "## RAG Query"
      ]
    },
    {
      "cell_type": "code",
      "execution_count": 13,
      "metadata": {
        "id": "BoNZ-ok6mKf_"
      },
      "outputs": [],
      "source": [
        "from langchain_openai import ChatOpenAI\n",
        "\n",
        "llm = ChatOpenAI(model_name=\"gpt-4-turbo-2024-04-09\")"
      ]
    },
    {
      "cell_type": "code",
      "execution_count": 14,
      "metadata": {
        "id": "oiIQ956NldhX"
      },
      "outputs": [],
      "source": [
        "from langchain_core.runnables import (\n",
        "    RunnablePassthrough,\n",
        "    ConfigurableField,\n",
        ")\n",
        "from langchain_core.prompts import ChatPromptTemplate\n",
        "\n",
        "# The chat prompt template\n",
        "ANSWER_PROMPT = (\n",
        "    \"The original question is given below.\"\n",
        "    \"This question has been used to retrieve information from a vector store.\"\n",
        "    \"The matching results are shown below.\"\n",
        "    \"Use the information in the results to provide a concise answer the original question.\\n\\n\"\n",
        "    \"Original Question: {question}\\n\\n\"\n",
        "    \"Vector Store Results:\\n{context}\\n\\n\"\n",
        "    \"Response:\"\n",
        ")\n",
        "\n",
        "# A function for formatting docs before adding to the chat prompt template\n",
        "def format_docs(docs):\n",
        "    for doc in docs:\n",
        "      print(doc.metadata)\n",
        "    return \"\\n\\n\".join(doc.page_content for doc in docs)\n",
        "\n",
        "retriever = VSTORE.as_retriever(\n",
        "    search_type = \"similarity\",\n",
        "    search_kwargs = {\n",
        "        \"k\": 10,\n",
        "    },\n",
        ")\n",
        "\n",
        "# Allow search filters to be applied dynamically\n",
        "configurable_retriever = retriever.configurable_fields(\n",
        "    search_kwargs=ConfigurableField(\n",
        "        id=\"search_kwargs\",\n",
        "        name=\"Search keyword args\",\n",
        "        description=\"Runtime config of search parameters\"\n",
        "    )\n",
        ")\n",
        "\n",
        "# Construct the LLM execution chain\n",
        "chain = (\n",
        "    {\"context\": configurable_retriever | format_docs, \"question\": RunnablePassthrough()}\n",
        "    | ChatPromptTemplate.from_messages([ANSWER_PROMPT])\n",
        "    | llm\n",
        ")"
      ]
    },
    {
      "cell_type": "code",
      "execution_count": 15,
      "metadata": {
        "colab": {
          "base_uri": "https://localhost:8080/"
        },
        "id": "sxz25MM0udvd",
        "outputId": "bb77b2ad-6569-4e55-bfef-a8071e41bf10"
      },
      "outputs": [
        {
          "name": "stdout",
          "output_type": "stream",
          "text": [
            "{'coordinates': {'points': [[43.2, 501.85913059999996], [43.2, 535.8591306], [571.52999, 535.8591306], [571.52999, 501.85913059999996]], 'system': 'PixelSpace', 'layout_width': 612, 'layout_height': 792}, 'file_directory': 'data', 'filename': 'goog-10-k-2023.pdf', 'languages': ['eng'], 'last_modified': '2024-11-06T16:57:16', 'page_number': 59, 'parent_id': '907483c1fb13277da2342b2d94d9256f', 'filetype': 'application/pdf', 'team': 'google', 'element_id': '92eabafa7df52924f8648a0bbc3bb0b1', 'category': 'NarrativeText'}\n",
            "{'coordinates': {'points': [[18.224997320625082, 451.9413989050448], [18.224997320625082, 460.04139799154484], [310.43798613549063, 460.04139799154484], [310.43798613549063, 451.9413989050448]], 'system': 'PixelSpace', 'layout_width': 612, 'layout_height': 792}, 'file_directory': 'data', 'filename': 'faab4555-c69b-438a-aaf7-e09305f87ca3.pdf', 'languages': ['eng'], 'last_modified': '2024-11-06T16:57:16', 'page_number': 26, 'parent_id': 'eb667ebf640f97c44e9f4f9a7fa0dd2f', 'filetype': 'application/pdf', 'team': 'apple', 'element_id': '589e619fe6ccb7cb7e9758a71f4c135b', 'category': 'NarrativeText'}\n",
            "{'coordinates': {'points': [[18.224997320625082, 618.6663801021699], [18.224997320625082, 626.7663791886699], [337.46303044766574, 626.7663791886699], [337.46303044766574, 618.6663801021699]], 'system': 'PixelSpace', 'layout_width': 612, 'layout_height': 792}, 'file_directory': 'data', 'filename': 'faab4555-c69b-438a-aaf7-e09305f87ca3.pdf', 'languages': ['eng'], 'last_modified': '2024-11-06T16:57:16', 'page_number': 26, 'parent_id': '03f275bfea4aee02c8f02565f68bda40', 'filetype': 'application/pdf', 'team': 'apple', 'element_id': '27fa8d8f74af2f510c3c09b36ecca8ce', 'category': 'NarrativeText'}\n",
            "{'coordinates': {'points': [[43.2, 483.85913059999996], [43.2, 493.85913059999996], [229.16000000000003, 493.85913059999996], [229.16000000000003, 483.85913059999996]], 'system': 'PixelSpace', 'layout_width': 612, 'layout_height': 792}, 'file_directory': 'data', 'filename': 'goog-10-k-2023.pdf', 'languages': ['eng'], 'last_modified': '2024-11-06T16:57:16', 'page_number': 59, 'parent_id': 'c77f0e3a31f4827ad36212250eb7631f', 'filetype': 'application/pdf', 'team': 'google', 'element_id': '907483c1fb13277da2342b2d94d9256f', 'category': 'Title'}\n",
            "{'coordinates': {'points': [[43.2, 684.8591306], [43.2, 742.8591306], [571.5700000000002, 742.8591306], [571.5700000000002, 684.8591306]], 'system': 'PixelSpace', 'layout_width': 612, 'layout_height': 792}, 'file_directory': 'data', 'filename': 'goog-10-k-2023.pdf', 'languages': ['eng'], 'last_modified': '2024-11-06T16:57:16', 'page_number': 39, 'parent_id': 'f944f2d34d474c8c1e143bcdf41e8ad7', 'filetype': 'application/pdf', 'team': 'google', 'element_id': 'ebc77700178bc95a83be2122b0dfa281', 'category': 'NarrativeText'}\n",
            "{'coordinates': {'points': [[65.7, 568.3591306000001], [65.7, 578.3591306000001], [571.5500100000002, 578.3591306000001], [571.5500100000002, 568.3591306000001]], 'system': 'PixelSpace', 'layout_width': 612, 'layout_height': 792}, 'file_directory': 'data', 'filename': 'goog-10-k-2023.pdf', 'languages': ['eng'], 'last_modified': '2024-11-06T16:57:16', 'page_number': 36, 'parent_id': '3c5143bbd83d9bd3f26763471d317d3b', 'filetype': 'application/pdf', 'team': 'google', 'element_id': 'd251f988d59acea6115c2b08d3f16881', 'category': 'NarrativeText'}\n",
            "{'coordinates': {'points': [[18.224997320625082, 538.3417467610274], [18.224997320625082, 546.4417458475274], [394.19465940959793, 546.4417458475274], [394.19465940959793, 538.3417467610274]], 'system': 'PixelSpace', 'layout_width': 612, 'layout_height': 792}, 'file_directory': 'data', 'filename': 'faab4555-c69b-438a-aaf7-e09305f87ca3.pdf', 'languages': ['eng'], 'last_modified': '2024-11-06T16:57:16', 'page_number': 42, 'parent_id': '061ef739320000e913a42fd8e0b9eafa', 'filetype': 'application/pdf', 'team': 'apple', 'element_id': '90da1889c46d7f7bcf7a2439605f5500', 'category': 'NarrativeText'}\n",
            "{'coordinates': {'points': [[18.224997320625082, 93.51647503941638], [18.224997320625082, 101.6164741259164], [351.8634672136163, 101.6164741259164], [351.8634672136163, 93.51647503941638]], 'system': 'PixelSpace', 'layout_width': 612, 'layout_height': 792}, 'file_directory': 'data', 'filename': 'faab4555-c69b-438a-aaf7-e09305f87ca3.pdf', 'languages': ['eng'], 'last_modified': '2024-11-06T16:57:16', 'page_number': 25, 'parent_id': '6f2af6d06eb92a3b1b67d1d2eda3bb37', 'filetype': 'application/pdf', 'team': 'apple', 'element_id': '5de1088758efdaff851b8ed291864616', 'category': 'NarrativeText'}\n",
            "{'coordinates': {'points': [[43.2, 507.85913059999996], [43.2, 517.8591306], [148.15000000000003, 517.8591306], [148.15000000000003, 507.85913059999996]], 'system': 'PixelSpace', 'layout_width': 612, 'layout_height': 792}, 'file_directory': 'data', 'filename': 'goog-10-k-2023.pdf', 'languages': ['eng'], 'last_modified': '2024-11-06T16:57:16', 'page_number': 57, 'parent_id': 'fa8fbb8775e5192eabb9be1f30d9176b', 'filetype': 'application/pdf', 'team': 'google', 'element_id': 'bca5e005efd1e6815de9433687be58cb', 'category': 'Title'}\n",
            "{'coordinates': {'points': [[18.224997320625082, 93.51643932741933], [18.224997320625082, 101.61643841391935], [475.661347921965, 101.61643841391935], [475.661347921965, 93.51643932741933]], 'system': 'PixelSpace', 'layout_width': 612, 'layout_height': 792}, 'file_directory': 'data', 'filename': 'faab4555-c69b-438a-aaf7-e09305f87ca3.pdf', 'languages': ['eng'], 'last_modified': '2024-11-06T16:57:16', 'page_number': 26, 'parent_id': 'd6a5e25e36f89b2ee668da4496a4db00', 'filetype': 'application/pdf', 'team': 'apple', 'element_id': '8f4327533f5e22800ac782d2dff0f7ac', 'category': 'NarrativeText'}\n",
            "google\n",
            "apple\n",
            "apple\n",
            "google\n",
            "google\n",
            "google\n",
            "apple\n",
            "apple\n",
            "google\n",
            "apple\n"
          ]
        }
      ],
      "source": [
        "# Example invocation (platinum membership fee is $695)\n",
        "resp = chain.invoke(\n",
        "    \"Please compare advertising profit and expenses between 2022 and 2023\",\n",
        ")\n",
        "context = configurable_retriever.get_relevant_documents(query=\"Please compare advertising profit and expenses between 2022 and 2023\")\n",
        "for doc in context:\n",
        "    print(doc.metadata['team'])\n",
        "\n"
      ]
    },
    {
      "cell_type": "markdown",
      "metadata": {
        "id": "YgFAAzMjUINz"
      },
      "source": [
        "Filter to only include documents related to Google in the similarity search. Need to call the vector store directly because langchain invoke applies the filter after similarity search"
      ]
    },
    {
      "cell_type": "markdown",
      "metadata": {
        "id": "5cd0ESS7ZZFg"
      },
      "source": [
        "## Next Level - Search Tool"
      ]
    },
    {
      "cell_type": "code",
      "execution_count": 17,
      "metadata": {
        "id": "KW53n2fvSURP"
      },
      "outputs": [
        {
          "name": "stdout",
          "output_type": "stream",
          "text": [
            "google\n",
            "google\n",
            "google\n",
            "google\n",
            "google\n",
            "google\n",
            "google\n",
            "google\n",
            "google\n",
            "google\n",
            "To compare the advertising profit and expenses between 2022 and 2023, we can analyze the provided information as follows:\n",
            "\n",
            "**Advertising and Promotional Expenses:**\n",
            "- In 2022, advertising and promotional expenses totaled approximately $9.2 billion.\n",
            "- In 2023, these expenses decreased to $8.7 billion.\n",
            "- This represents a decrease in advertising and promotional expenses of $500 million from 2022 to 2023.\n",
            "\n",
            "**Advertising Revenues:**\n",
            "- YouTube ads revenues, a significant component of advertising revenues, increased by $2.3 billion from 2022 to 2023.\n",
            "- The document does not provide explicit figures for total Google advertising revenues for 2022 and 2023, but the increase in YouTube ads revenues suggests a substantial growth in overall advertising revenues.\n",
            "\n",
            "**Analysis:**\n",
            "- The decrease in advertising and promotional expenses and the increase in advertising revenues, particularly from YouTube, suggest an improvement in advertising profit from 2022 to 2023. The company spent less on advertising and promotions while earning significantly more from these efforts.\n",
            "- The specific profit increase can be inferred from the growth in revenues minus the decrease in expenses; however, exact profit figures are not provided in the document.\n",
            "\n",
            "**Additional Context from the Document:**\n",
            "- The overall sales and marketing expenses increased by $1.4 billion from 2022 to 2023, driven primarily by an increase in compensation expenses. This indicates that while advertising and promotional expenses decreased, other components of sales and marketing expenses rose, particularly those related to personnel.\n",
            "- This increase in compensation expenses was partly due to severance charges from workforce reductions, suggesting some restructuring within the company that could have implications for future expenses and operational efficiency.\n",
            "\n",
            "In summary, between 2022 and 2023, the company managed to reduce its advertising and promotional expenses while significantly increasing advertising revenues, particularly from YouTube, indicating an improved profitability in advertising operations despite rising overall sales and marketing costs due to increases in compensation expenses.\n"
          ]
        }
      ],
      "source": [
        "docs = VSTORE.similarity_search(query=\"Please compare advertising profit and expenses between 2022 and 2023\",k=10,filter={\"team\": \"google\"})\n",
        "for doc in docs:\n",
        "  print(doc.metadata['team'])\n",
        "\n",
        "\n",
        "query = \"Please compare advertising profit and expenses between 2022 and 2023\"\n",
        "context = \"\\n\\n\".join([doc.page_content for doc in docs])\n",
        "prompt = f\"Based on the following documents, answer the question: {query}\\n\\nContext:\\n{context}\"\n",
        "response = llm.invoke(prompt)\n",
        "\n",
        "# Output the response\n",
        "print(response.content)"
      ]
    }
  ],
  "metadata": {
    "colab": {
      "provenance": []
    },
    "kernelspec": {
      "display_name": "Python 3",
      "name": "python3"
    },
    "language_info": {
      "codemirror_mode": {
        "name": "ipython",
        "version": 3
      },
      "file_extension": ".py",
      "mimetype": "text/x-python",
      "name": "python",
      "nbconvert_exporter": "python",
      "pygments_lexer": "ipython3",
      "version": "3.12.5"
    }
  },
  "nbformat": 4,
  "nbformat_minor": 0
}
